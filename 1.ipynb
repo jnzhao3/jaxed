{
 "cells": [
  {
   "cell_type": "markdown",
   "metadata": {},
   "source": [
    "# 1 Gram Matrix\n",
    "\n",
    "Given a matrix, $A$, of real-values, compute and return $A^TA$."
   ]
  },
  {
   "cell_type": "code",
   "execution_count": 5,
   "metadata": {},
   "outputs": [],
   "source": [
    "import jax\n",
    "import jax.numpy as jnp"
   ]
  },
  {
   "cell_type": "code",
   "execution_count": 20,
   "metadata": {},
   "outputs": [],
   "source": [
    "def gram_matrix(A : jax.Array) -> jax.Array:\n",
    "    pass"
   ]
  },
  {
   "cell_type": "code",
   "execution_count": 21,
   "metadata": {},
   "outputs": [],
   "source": [
    "test_cases = {\n",
    "1 : (jnp.array([[1, 0], [0, 1]]), jnp.array([[1, 0], [0, 1]])),\n",
    "    2 : (jnp.array([[1, 0], [0, 1]]), jnp.array([[1, 0], [0, 1]])),\n",
    "    3 : (jnp.array([[1, 0], [0, 1]]), jnp.array([[1, 0], [0, 1]])),\n",
    "    4: (jnp.array([[1, 2, 3], [4, 5, 6], [7, 8, 9]]), jnp.array([[66, 78, 90], [78, 93, 108], [90, 108, 126]])),\n",
    "}"
   ]
  },
  {
   "cell_type": "code",
   "execution_count": 19,
   "metadata": {},
   "outputs": [],
   "source": [
    "test_func = gram_matrix\n",
    "for k, v in test_cases.items():\n",
    "    assert jnp.allclose(test_func(v[0]), v[1]), f'Received {test_func(v[0])} on input {v[0]}. Expected {v[1]}.'"
   ]
  },
  {
   "cell_type": "markdown",
   "metadata": {},
   "source": [
    "## Solutions"
   ]
  },
  {
   "cell_type": "markdown",
   "metadata": {},
   "source": [
    "```python\n",
    "def gram_matrix(A : jax.Array) -> jax.Array:\n",
    "    return jnp.dot(A.T, A)\n",
    "```"
   ]
  },
  {
   "cell_type": "markdown",
   "metadata": {},
   "source": [
    "### Notes\n",
    "- `jax` functions are never in-place operations, since `jax` arrays are immutable.\n",
    "- `jax` uses functional programming principles.\n",
    "- Every positive-semidefinite matrix is the Gram matrix for a set of vectors."
   ]
  },
  {
   "cell_type": "markdown",
   "metadata": {},
   "source": []
  }
 ],
 "metadata": {
  "kernelspec": {
   "display_name": "jaxed",
   "language": "python",
   "name": "python3"
  },
  "language_info": {
   "codemirror_mode": {
    "name": "ipython",
    "version": 3
   },
   "file_extension": ".py",
   "mimetype": "text/x-python",
   "name": "python",
   "nbconvert_exporter": "python",
   "pygments_lexer": "ipython3",
   "version": "3.13.1"
  }
 },
 "nbformat": 4,
 "nbformat_minor": 2
}
