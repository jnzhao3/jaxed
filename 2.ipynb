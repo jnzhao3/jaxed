{
 "cells": [
  {
   "cell_type": "markdown",
   "metadata": {},
   "source": [
    "# 2 Gradient\n",
    "\n",
    "A function, $h$, is the composition of two functions $f$ and $g$. Specifically, $h(x) = g(f(x))$. Given $f$, $g$, and $x$, return the gradient of $h$ evaluated at $x$."
   ]
  },
  {
   "cell_type": "code",
   "execution_count": 1,
   "metadata": {},
   "outputs": [],
   "source": [
    "import jax\n",
    "import jax.numpy as jnp"
   ]
  },
  {
   "cell_type": "code",
   "execution_count": 24,
   "metadata": {},
   "outputs": [],
   "source": [
    "def gradient(f, g, x) -> float:\n",
    "    pass"
   ]
  },
  {
   "cell_type": "code",
   "execution_count": 21,
   "metadata": {},
   "outputs": [],
   "source": [
    "test_cases = {\n",
    "    1 : ((lambda x: x**2, lambda x: 1 + x, 1.0), 2.0),\n",
    "    2 : ((lambda x: x**(.5), lambda x: 1 / x, 1.0), -0.5),\n",
    "}"
   ]
  },
  {
   "cell_type": "code",
   "execution_count": 23,
   "metadata": {},
   "outputs": [],
   "source": [
    "test_func = gradient\n",
    "for k, v in test_cases.items():\n",
    "    assert jnp.allclose(test_func(*v[0]), v[1]), f'Received {test_func(*v[0])} on input {v[0]}. Expected {v[1]}.'"
   ]
  },
  {
   "cell_type": "markdown",
   "metadata": {},
   "source": [
    "## Solutions"
   ]
  },
  {
   "cell_type": "markdown",
   "metadata": {},
   "source": [
    "```python\n",
    "def gradient(f, g, x) -> float:\n",
    "    return jax.grad(f)(x) * jax.grad(g)(f(x))\n",
    "```"
   ]
  },
  {
   "cell_type": "markdown",
   "metadata": {},
   "source": []
  }
 ],
 "metadata": {
  "kernelspec": {
   "display_name": "jaxed",
   "language": "python",
   "name": "python3"
  },
  "language_info": {
   "codemirror_mode": {
    "name": "ipython",
    "version": 3
   },
   "file_extension": ".py",
   "mimetype": "text/x-python",
   "name": "python",
   "nbconvert_exporter": "python",
   "pygments_lexer": "ipython3",
   "version": "3.13.1"
  }
 },
 "nbformat": 4,
 "nbformat_minor": 2
}
